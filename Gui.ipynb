{
 "cells": [
  {
   "cell_type": "code",
   "execution_count": 20,
   "metadata": {},
   "outputs": [],
   "source": [
    "import tkinter as tk\n",
    "from tkinter import messagebox\n",
    "import cv2\n",
    "import os\n",
    "from PIL import Image\n",
    "import numpy as np\n",
    "import cv2\n",
    "import sys"
   ]
  },
  {
   "cell_type": "code",
   "execution_count": 40,
   "metadata": {},
   "outputs": [
    {
     "name": "stdout",
     "output_type": "stream",
     "text": [
      "Found 4 faces!\n"
     ]
    }
   ],
   "source": [
    "window=tk.Tk()\n",
    "window.title(\"Face recognition\")\n",
    "# window.config(background=\"#99b898\")\n",
    "\n",
    "l1=tk.Label(window,text=\"Name\",font=(\"Alternate Gothic\",20))\n",
    "l1.grid(column=0, row=0)\n",
    "t1=tk.Entry(window,width=50,bd=5)\n",
    "t1.grid(column=1,row=0)\n",
    "\n",
    "l2=tk.Label(window,text=\"Age\",font=(\"Alternate Gothic\",20))\n",
    "l2.grid(column=0, row=1)\n",
    "t2=tk.Entry(window,width=50,bd=5)\n",
    "t2.grid(column=1,row=1)\n",
    "def detection():\n",
    "    cascPath = \"haarcascade_frontalface_default.xml\"\n",
    "    faceCascade = cv2.CascadeClassifier(cascPath)\n",
    "    image = cv2.imread(\"d.png\")\n",
    "    gray = cv2.cvtColor(image, cv2.COLOR_BGR2GRAY)\n",
    "    faces = faceCascade.detectMultiScale(\n",
    "        gray,\n",
    "        scaleFactor=1.1,\n",
    "        minNeighbors=5,\n",
    "        minSize=(30, 30)\n",
    "        #flags = cv2.CV_HAAR_SCALE_IMAGE\n",
    "    )\n",
    "\n",
    "    print(\"Found {0} faces!\".format(len(faces)))\n",
    "\n",
    "    # Draw a rectangle around the faces\n",
    "    for (x, y, w, h) in faces:\n",
    "        cv2.rectangle(image, (x, y), (x+w, y+h), (0, 255, 0), 2)\n",
    "\n",
    "    cv2.imshow(\"image\",image)\n",
    "\n",
    "    \n",
    "b1=tk.Button(window,text=\"Detect the face\",font=(\"Alternate Gothic\",20),bg='#ff9a76',fg='#6a197d',command=detection)\n",
    "b1.grid(column=1,row=3)\n",
    "\n",
    "window.geometry(\"800x200\")\n",
    "window.mainloop()\n"
   ]
  },
  {
   "cell_type": "code",
   "execution_count": null,
   "metadata": {},
   "outputs": [],
   "source": []
  }
 ],
 "metadata": {
  "kernelspec": {
   "display_name": "Python 3",
   "language": "python",
   "name": "python3"
  },
  "language_info": {
   "codemirror_mode": {
    "name": "ipython",
    "version": 3
   },
   "file_extension": ".py",
   "mimetype": "text/x-python",
   "name": "python",
   "nbconvert_exporter": "python",
   "pygments_lexer": "ipython3",
   "version": "3.7.4"
  }
 },
 "nbformat": 4,
 "nbformat_minor": 2
}
